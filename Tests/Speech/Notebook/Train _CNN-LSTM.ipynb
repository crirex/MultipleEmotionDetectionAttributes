{
 "cells": [
  {
   "cell_type": "markdown",
   "metadata": {
    "colab_type": "text",
    "id": "RHSGbIrCiQjl"
   },
   "source": [
    "# Speech Emotion Recognition - Time Distributed ConvNet\n"
   ]
  },
  {
   "cell_type": "code",
   "execution_count": 1,
   "metadata": {},
   "outputs": [
    {
     "name": "stdout",
     "output_type": "stream",
     "text": [
      "2.7.0\n"
     ]
    }
   ],
   "source": [
    "import tensorflow as tf\n",
    "print(tf.__version__)"
   ]
  },
  {
   "cell_type": "markdown",
   "metadata": {
    "colab_type": "text",
    "id": "PTc8qT9YMbv_"
   },
   "source": [
    "## I. Context\n",
    "In this project I build a prevision model using deep learning combining **CNN**  and  **LSTM**  to detect a person’s emotions (HAPPY, SAD, FEAR, ANGRY, DISGUST, SURPRISE, NEUTRAL) just by their voice. \n",
    "\n",
    "### Audio features:\n",
    "- **Log-mel-spectrogram**: the mel-frequency cepstrum (MFC) is a representation of the short-term power spectrum of a sound, based on a linear cosine transform of a log power spectrum on a nonlinear mel scale of frequency\n",
    "\n",
    "\n",
    "### Data:\n",
    "- **RAVDESS**: The Ryerson Audio-Visual Database of Emotional Speech and Song (RAVDESS) contains 7356 files (total size: 24.8 GB). The database contains 24 professional actors (12 female, 12 male), vocalizing two lexically-matched statements in a neutral North American accent. Speech includes *calm*, *happy*, *sad*, *angry*, *fearful*, *surprise*, and *disgust* expressions, and song contains calm, happy, sad, angry, and fearful emotions. Each expression is produced at two levels of emotional intensity (normal, strong), with an additional neutral expression. (https://zenodo.org/record/1188976#.XA48aC17Q1J)"
   ]
  },
  {
   "cell_type": "markdown",
   "metadata": {
    "colab_type": "text",
    "id": "_NCG5axvM21z"
   },
   "source": [
    "## II. General Imports"
   ]
  },
  {
   "cell_type": "code",
   "execution_count": 2,
   "metadata": {
    "colab": {
     "base_uri": "https://localhost:8080/",
     "height": 34
    },
    "colab_type": "code",
    "id": "T3rnzxmfM2TV",
    "outputId": "b7c8c5b9-8c81-49d3-e8f3-011f6dc09447"
   },
   "outputs": [],
   "source": [
    "### General imports ###\n",
    "import os\n",
    "from glob import glob\n",
    "import pickle\n",
    "import numpy as np\n",
    "\n",
    "### Plot imports ###\n",
    "from IPython.display import Image\n",
    "import matplotlib.pyplot as plt\n",
    "\n",
    "### Time Distributed ConvNet imports ###\n",
    "import tensorflow as tf\n",
    "from tensorflow.keras.models import Sequential, Model\n",
    "from tensorflow.keras.layers import Input, Dense, Dropout, Activation, TimeDistributed, concatenate\n",
    "from tensorflow.keras.layers import Conv2D, MaxPooling2D, AveragePooling2D, BatchNormalization, LeakyReLU, Flatten\n",
    "from tensorflow.keras.layers import LSTM\n",
    "from tensorflow.keras.optimizers import Adam, SGD\n",
    "from tensorflow.keras.callbacks import EarlyStopping, ModelCheckpoint, ReduceLROnPlateau\n",
    "from tensorflow.keras import backend as K\n",
    "from keras.utils import np_utils\n",
    "from keras.utils.vis_utils import plot_model\n",
    "from sklearn.preprocessing import LabelEncoder\n",
    "\n",
    "### Warning ###\n",
    "import warnings\n",
    "warnings.filterwarnings('ignore')"
   ]
  },
  {
   "cell_type": "code",
   "execution_count": 3,
   "metadata": {
    "colab": {
     "base_uri": "https://localhost:8080/",
     "height": 34
    },
    "colab_type": "code",
    "id": "tnrPT8y8igrg",
    "outputId": "85a56f4a-a518-4245-cf36-5601b17fa2aa"
   },
   "outputs": [
    {
     "name": "stdout",
     "output_type": "stream",
     "text": [
      "Num GPUs Available:  1\n"
     ]
    }
   ],
   "source": [
    "print(\"Num GPUs Available: \", len(tf.config.list_physical_devices('GPU')))"
   ]
  },
  {
   "cell_type": "markdown",
   "metadata": {
    "colab_type": "text",
    "id": "vNOluZZ5NuaW"
   },
   "source": [
    "## III. Import datas"
   ]
  },
  {
   "cell_type": "code",
   "execution_count": 4,
   "metadata": {
    "colab": {},
    "colab_type": "code",
    "id": "8to3kDPue_ts"
   },
   "outputs": [],
   "source": [
    "# RAVDESS mel-Spectrogram\n",
    "X_train = pickle.load(open('../Data/Pickle/[RAVDESS][MEL_SPECT][X_train].p', 'rb'))\n",
    "y_train = pickle.load(open('../Data/Pickle/[RAVDESS][MEL_SPECT][y_train].p', 'rb'))\n",
    "y_test = pickle.load(open('../Data/Pickle/[RAVDESS][MEL_SPECT][y_test].p', 'rb'))\n",
    "X_test = pickle.load(open('../Data/Pickle/[RAVDESS][MEL_SPECT][X_test].p', 'rb'))"
   ]
  },
  {
   "cell_type": "markdown",
   "metadata": {
    "colab_type": "text",
    "id": "iuhi0QWaOFk7"
   },
   "source": [
    "## IV. Encode label"
   ]
  },
  {
   "cell_type": "code",
   "execution_count": 5,
   "metadata": {
    "colab": {},
    "colab_type": "code",
    "id": "IXcVPQs9ikbv"
   },
   "outputs": [],
   "source": [
    "# Encode Label from categorical to numerical\n",
    "lb = LabelEncoder()\n",
    "y_train = np_utils.to_categorical(lb.fit_transform(np.ravel(y_train)))\n",
    "y_test = np_utils.to_categorical(lb.transform(np.ravel(y_test)))"
   ]
  },
  {
   "cell_type": "code",
   "execution_count": 6,
   "metadata": {},
   "outputs": [
    {
     "data": {
      "text/plain": [
       "(269, 7)"
      ]
     },
     "execution_count": 6,
     "metadata": {},
     "output_type": "execute_result"
    }
   ],
   "source": [
    "y_test.shape"
   ]
  },
  {
   "cell_type": "markdown",
   "metadata": {
    "colab_type": "text",
    "id": "zJrNbLFPONVr"
   },
   "source": [
    "## V. Reshape train and test set"
   ]
  },
  {
   "cell_type": "code",
   "execution_count": 7,
   "metadata": {
    "colab": {},
    "colab_type": "code",
    "id": "bMz-jz7QjeFk"
   },
   "outputs": [],
   "source": [
    "# Reshape for convolution\n",
    "X_train = X_train.reshape(X_train.shape[0], X_train.shape[1] , X_train.shape[2], X_train.shape[3], 1)\n",
    "X_test = X_test.reshape(X_test.shape[0], X_test.shape[1] , X_test.shape[2], X_test.shape[3], 1)"
   ]
  },
  {
   "cell_type": "code",
   "execution_count": 8,
   "metadata": {},
   "outputs": [
    {
     "data": {
      "text/plain": [
       "(3225, 5, 128, 128, 1)"
      ]
     },
     "execution_count": 8,
     "metadata": {},
     "output_type": "execute_result"
    }
   ],
   "source": [
    "X_train.shape"
   ]
  },
  {
   "cell_type": "markdown",
   "metadata": {
    "colab_type": "text",
    "id": "rOVTlQcmOWhn"
   },
   "source": [
    "## VI. Time Distributed ConvNet model\n",
    "https://machinelearningmastery.com/timedistributed-layer-for-long-short-term-memory-networks-in-python/"
   ]
  },
  {
   "cell_type": "code",
   "execution_count": 9,
   "metadata": {
    "colab": {
     "base_uri": "https://localhost:8080/",
     "height": 1448
    },
    "colab_type": "code",
    "id": "5YRyu1Xgi94C",
    "outputId": "8aeb878a-9e3b-4b34-8608-0866da11f751"
   },
   "outputs": [],
   "source": [
    "K.clear_session()\n",
    "\n",
    "# Define two sets of inputs: MFCC and FBANK\n",
    "input_y = Input(shape=X_train.shape[1:], name='Input_MELSPECT')\n",
    "\n",
    "## First LFLB (local feature learning block)\n",
    "y = TimeDistributed(Conv2D(64, kernel_size=(3, 3), strides=(1, 1), padding='same'), name='Conv_1_MELSPECT')(input_y)\n",
    "y = TimeDistributed(BatchNormalization(), name='BatchNorm_1_MELSPECT')(y)\n",
    "y = TimeDistributed(Activation('elu'), name='Activ_1_MELSPECT')(y)\n",
    "y = TimeDistributed(MaxPooling2D(pool_size=(2, 2), strides=(2, 2), padding='same'), name='MaxPool_1_MELSPECT')(y)\n",
    "y = TimeDistributed(Dropout(0.2), name='Drop_1_MELSPECT')(y)     \n",
    "\n",
    "## Second LFLB (local feature learning block)\n",
    "y = TimeDistributed(Conv2D(64, kernel_size=(3, 3), strides=(1, 1), padding='same'), name='Conv_2_MELSPECT')(y)\n",
    "y = TimeDistributed(BatchNormalization(), name='BatchNorm_2_MELSPECT')(y)\n",
    "y = TimeDistributed(Activation('elu'), name='Activ_2_MELSPECT')(y)\n",
    "y = TimeDistributed(MaxPooling2D(pool_size=(4, 4), strides=(4, 4), padding='same'), name='MaxPool_2_MELSPECT')(y)\n",
    "y = TimeDistributed(Dropout(0.2), name='Drop_2_MELSPECT')(y)\n",
    "\n",
    "## Second LFLB (local feature learning block)\n",
    "y = TimeDistributed(Conv2D(128, kernel_size=(3, 3), strides=(1, 1), padding='same'), name='Conv_3_MELSPECT')(y)\n",
    "y = TimeDistributed(BatchNormalization(), name='BatchNorm_3_MELSPECT')(y)\n",
    "y = TimeDistributed(Activation('elu'), name='Activ_3_MELSPECT')(y)\n",
    "y = TimeDistributed(MaxPooling2D(pool_size=(4, 4), strides=(4, 4), padding='same'), name='MaxPool_3_MELSPECT')(y)\n",
    "y = TimeDistributed(Dropout(0.2), name='Drop_3_MELSPECT')(y)\n",
    "\n",
    "## Second LFLB (local feature learning block)\n",
    "y = TimeDistributed(Conv2D(128, kernel_size=(3, 3), strides=(1, 1), padding='same'), name='Conv_4_MELSPECT')(y)\n",
    "y = TimeDistributed(BatchNormalization(), name='BatchNorm_4_MELSPECT')(y)\n",
    "y = TimeDistributed(Activation('elu'), name='Activ_4_MELSPECT')(y)\n",
    "y = TimeDistributed(MaxPooling2D(pool_size=(4, 4), strides=(4, 4), padding='same'), name='MaxPool_4_MELSPECT')(y)\n",
    "y = TimeDistributed(Dropout(0.2), name='Drop_4_MELSPECT')(y)  \n",
    "\n",
    "## Flat\n",
    "y = TimeDistributed(Flatten(), name='Flat_MELSPECT')(y)                      \n",
    "                               \n",
    "# Apply 2 LSTM layer and one FC\n",
    "y = LSTM(256, return_sequences=False, dropout=0.2, name='LSTM_1')(y)\n",
    "y = Dense(y_train.shape[1], activation='softmax', name='FC')(y)\n",
    "\n",
    "# Build final model\n",
    "model = Model(inputs=input_y, outputs=y)\n",
    "\n",
    "# Plot model graph\n",
    "# plot_model(model, show_shapes=True, show_layer_names=True, to_file='model.png')\n",
    "# Image(retina=True, filename='model.png')"
   ]
  },
  {
   "cell_type": "code",
   "execution_count": 17,
   "metadata": {
    "colab": {
     "base_uri": "https://localhost:8080/",
     "height": 3505
    },
    "colab_type": "code",
    "id": "oYI-Z_ypjBPm",
    "outputId": "e1559a19-a5d1-4d4c-826f-6260efd96093"
   },
   "outputs": [
    {
     "name": "stdout",
     "output_type": "stream",
     "text": [
      "Epoch 1/100\n",
      "202/202 [==============================] - ETA: 0s - loss: 1.6255 - accuracy: 0.3423WARNING:tensorflow:Early stopping conditioned on metric `val_acc` which is not available. Available metrics are: loss,accuracy,val_loss,val_accuracy\n",
      "WARNING:tensorflow:Can save best model only with val_acc available, skipping.\n",
      "202/202 [==============================] - 26s 119ms/step - loss: 1.6255 - accuracy: 0.3423 - val_loss: 1.5698 - val_accuracy: 0.3123\n",
      "Epoch 2/100\n",
      "202/202 [==============================] - ETA: 0s - loss: 1.5608 - accuracy: 0.3789WARNING:tensorflow:Early stopping conditioned on metric `val_acc` which is not available. Available metrics are: loss,accuracy,val_loss,val_accuracy\n",
      "WARNING:tensorflow:Can save best model only with val_acc available, skipping.\n",
      "202/202 [==============================] - 24s 120ms/step - loss: 1.5608 - accuracy: 0.3789 - val_loss: 1.5992 - val_accuracy: 0.3680\n",
      "Epoch 3/100\n",
      "202/202 [==============================] - ETA: 0s - loss: 1.4910 - accuracy: 0.4019WARNING:tensorflow:Early stopping conditioned on metric `val_acc` which is not available. Available metrics are: loss,accuracy,val_loss,val_accuracy\n",
      "WARNING:tensorflow:Can save best model only with val_acc available, skipping.\n",
      "202/202 [==============================] - 24s 119ms/step - loss: 1.4910 - accuracy: 0.4019 - val_loss: 1.4403 - val_accuracy: 0.4164\n",
      "Epoch 4/100\n",
      "202/202 [==============================] - ETA: 0s - loss: 1.4089 - accuracy: 0.4496WARNING:tensorflow:Early stopping conditioned on metric `val_acc` which is not available. Available metrics are: loss,accuracy,val_loss,val_accuracy\n",
      "WARNING:tensorflow:Can save best model only with val_acc available, skipping.\n",
      "202/202 [==============================] - 24s 117ms/step - loss: 1.4089 - accuracy: 0.4496 - val_loss: 1.5089 - val_accuracy: 0.4535\n",
      "Epoch 5/100\n",
      "202/202 [==============================] - ETA: 0s - loss: 1.3649 - accuracy: 0.4608WARNING:tensorflow:Early stopping conditioned on metric `val_acc` which is not available. Available metrics are: loss,accuracy,val_loss,val_accuracy\n",
      "WARNING:tensorflow:Can save best model only with val_acc available, skipping.\n",
      "202/202 [==============================] - 23s 116ms/step - loss: 1.3649 - accuracy: 0.4608 - val_loss: 1.4170 - val_accuracy: 0.4164\n",
      "Epoch 6/100\n",
      "202/202 [==============================] - ETA: 0s - loss: 1.2841 - accuracy: 0.4992WARNING:tensorflow:Early stopping conditioned on metric `val_acc` which is not available. Available metrics are: loss,accuracy,val_loss,val_accuracy\n",
      "WARNING:tensorflow:Can save best model only with val_acc available, skipping.\n",
      "202/202 [==============================] - 24s 120ms/step - loss: 1.2841 - accuracy: 0.4992 - val_loss: 1.5086 - val_accuracy: 0.4201\n",
      "Epoch 7/100\n",
      "202/202 [==============================] - ETA: 0s - loss: 1.2202 - accuracy: 0.5309WARNING:tensorflow:Early stopping conditioned on metric `val_acc` which is not available. Available metrics are: loss,accuracy,val_loss,val_accuracy\n",
      "WARNING:tensorflow:Can save best model only with val_acc available, skipping.\n",
      "202/202 [==============================] - 26s 129ms/step - loss: 1.2202 - accuracy: 0.5309 - val_loss: 1.8045 - val_accuracy: 0.3606\n",
      "Epoch 8/100\n",
      "202/202 [==============================] - ETA: 0s - loss: 1.1847 - accuracy: 0.5426WARNING:tensorflow:Early stopping conditioned on metric `val_acc` which is not available. Available metrics are: loss,accuracy,val_loss,val_accuracy\n",
      "WARNING:tensorflow:Can save best model only with val_acc available, skipping.\n",
      "202/202 [==============================] - 25s 123ms/step - loss: 1.1847 - accuracy: 0.5426 - val_loss: 1.4299 - val_accuracy: 0.4610\n",
      "Epoch 9/100\n",
      "202/202 [==============================] - ETA: 0s - loss: 1.0973 - accuracy: 0.5743WARNING:tensorflow:Early stopping conditioned on metric `val_acc` which is not available. Available metrics are: loss,accuracy,val_loss,val_accuracy\n",
      "WARNING:tensorflow:Can save best model only with val_acc available, skipping.\n",
      "202/202 [==============================] - 24s 119ms/step - loss: 1.0973 - accuracy: 0.5743 - val_loss: 1.6058 - val_accuracy: 0.4201\n",
      "Epoch 10/100\n",
      "202/202 [==============================] - ETA: 0s - loss: 1.0629 - accuracy: 0.5848WARNING:tensorflow:Early stopping conditioned on metric `val_acc` which is not available. Available metrics are: loss,accuracy,val_loss,val_accuracy\n",
      "WARNING:tensorflow:Can save best model only with val_acc available, skipping.\n",
      "202/202 [==============================] - 25s 125ms/step - loss: 1.0629 - accuracy: 0.5848 - val_loss: 1.6360 - val_accuracy: 0.4312\n",
      "Epoch 11/100\n",
      "202/202 [==============================] - ETA: 0s - loss: 1.0246 - accuracy: 0.6053WARNING:tensorflow:Early stopping conditioned on metric `val_acc` which is not available. Available metrics are: loss,accuracy,val_loss,val_accuracy\n",
      "WARNING:tensorflow:Can save best model only with val_acc available, skipping.\n",
      "202/202 [==============================] - 25s 123ms/step - loss: 1.0246 - accuracy: 0.6053 - val_loss: 1.5371 - val_accuracy: 0.4572\n",
      "Epoch 12/100\n",
      "202/202 [==============================] - ETA: 0s - loss: 1.0027 - accuracy: 0.6180WARNING:tensorflow:Early stopping conditioned on metric `val_acc` which is not available. Available metrics are: loss,accuracy,val_loss,val_accuracy\n",
      "WARNING:tensorflow:Can save best model only with val_acc available, skipping.\n",
      "202/202 [==============================] - 25s 122ms/step - loss: 1.0027 - accuracy: 0.6180 - val_loss: 1.4210 - val_accuracy: 0.4833\n",
      "Epoch 13/100\n",
      "202/202 [==============================] - ETA: 0s - loss: 0.9592 - accuracy: 0.6425WARNING:tensorflow:Early stopping conditioned on metric `val_acc` which is not available. Available metrics are: loss,accuracy,val_loss,val_accuracy\n",
      "WARNING:tensorflow:Can save best model only with val_acc available, skipping.\n",
      "202/202 [==============================] - 24s 119ms/step - loss: 0.9592 - accuracy: 0.6425 - val_loss: 1.2820 - val_accuracy: 0.4907\n",
      "Epoch 14/100\n",
      "202/202 [==============================] - ETA: 0s - loss: 0.9248 - accuracy: 0.6471WARNING:tensorflow:Early stopping conditioned on metric `val_acc` which is not available. Available metrics are: loss,accuracy,val_loss,val_accuracy\n",
      "WARNING:tensorflow:Can save best model only with val_acc available, skipping.\n",
      "202/202 [==============================] - 23s 116ms/step - loss: 0.9248 - accuracy: 0.6471 - val_loss: 1.4303 - val_accuracy: 0.4870\n",
      "Epoch 15/100\n",
      "202/202 [==============================] - ETA: 0s - loss: 0.8814 - accuracy: 0.6710WARNING:tensorflow:Early stopping conditioned on metric `val_acc` which is not available. Available metrics are: loss,accuracy,val_loss,val_accuracy\n",
      "WARNING:tensorflow:Can save best model only with val_acc available, skipping.\n",
      "202/202 [==============================] - 24s 121ms/step - loss: 0.8814 - accuracy: 0.6710 - val_loss: 1.9493 - val_accuracy: 0.4238\n",
      "Epoch 16/100\n",
      "202/202 [==============================] - ETA: 0s - loss: 0.8510 - accuracy: 0.6673WARNING:tensorflow:Early stopping conditioned on metric `val_acc` which is not available. Available metrics are: loss,accuracy,val_loss,val_accuracy\n",
      "WARNING:tensorflow:Can save best model only with val_acc available, skipping.\n",
      "202/202 [==============================] - 24s 118ms/step - loss: 0.8510 - accuracy: 0.6673 - val_loss: 1.5922 - val_accuracy: 0.4758\n",
      "Epoch 17/100\n",
      "202/202 [==============================] - ETA: 0s - loss: 0.8110 - accuracy: 0.6902WARNING:tensorflow:Early stopping conditioned on metric `val_acc` which is not available. Available metrics are: loss,accuracy,val_loss,val_accuracy\n",
      "WARNING:tensorflow:Can save best model only with val_acc available, skipping.\n",
      "202/202 [==============================] - 25s 124ms/step - loss: 0.8110 - accuracy: 0.6902 - val_loss: 1.3152 - val_accuracy: 0.5242\n",
      "Epoch 18/100\n",
      "202/202 [==============================] - ETA: 0s - loss: 0.7991 - accuracy: 0.6933WARNING:tensorflow:Early stopping conditioned on metric `val_acc` which is not available. Available metrics are: loss,accuracy,val_loss,val_accuracy\n",
      "WARNING:tensorflow:Can save best model only with val_acc available, skipping.\n",
      "202/202 [==============================] - 24s 121ms/step - loss: 0.7991 - accuracy: 0.6933 - val_loss: 1.1854 - val_accuracy: 0.5725\n"
     ]
    },
    {
     "name": "stdout",
     "output_type": "stream",
     "text": [
      "Epoch 19/100\n",
      "202/202 [==============================] - ETA: 0s - loss: 0.7854 - accuracy: 0.7002WARNING:tensorflow:Early stopping conditioned on metric `val_acc` which is not available. Available metrics are: loss,accuracy,val_loss,val_accuracy\n",
      "WARNING:tensorflow:Can save best model only with val_acc available, skipping.\n",
      "202/202 [==============================] - 25s 122ms/step - loss: 0.7854 - accuracy: 0.7002 - val_loss: 1.3253 - val_accuracy: 0.5576\n",
      "Epoch 20/100\n",
      "202/202 [==============================] - ETA: 0s - loss: 0.7023 - accuracy: 0.7371WARNING:tensorflow:Early stopping conditioned on metric `val_acc` which is not available. Available metrics are: loss,accuracy,val_loss,val_accuracy\n",
      "WARNING:tensorflow:Can save best model only with val_acc available, skipping.\n",
      "202/202 [==============================] - 24s 117ms/step - loss: 0.7023 - accuracy: 0.7371 - val_loss: 1.3938 - val_accuracy: 0.5465\n",
      "Epoch 21/100\n",
      "202/202 [==============================] - ETA: 0s - loss: 0.7102 - accuracy: 0.7395WARNING:tensorflow:Early stopping conditioned on metric `val_acc` which is not available. Available metrics are: loss,accuracy,val_loss,val_accuracy\n",
      "WARNING:tensorflow:Can save best model only with val_acc available, skipping.\n",
      "202/202 [==============================] - 24s 118ms/step - loss: 0.7102 - accuracy: 0.7395 - val_loss: 1.0896 - val_accuracy: 0.6171\n",
      "Epoch 22/100\n",
      "202/202 [==============================] - ETA: 0s - loss: 0.6981 - accuracy: 0.7460WARNING:tensorflow:Early stopping conditioned on metric `val_acc` which is not available. Available metrics are: loss,accuracy,val_loss,val_accuracy\n",
      "WARNING:tensorflow:Can save best model only with val_acc available, skipping.\n",
      "202/202 [==============================] - 24s 117ms/step - loss: 0.6981 - accuracy: 0.7460 - val_loss: 1.8242 - val_accuracy: 0.4312\n",
      "Epoch 23/100\n",
      "202/202 [==============================] - ETA: 0s - loss: 0.6560 - accuracy: 0.7519WARNING:tensorflow:Early stopping conditioned on metric `val_acc` which is not available. Available metrics are: loss,accuracy,val_loss,val_accuracy\n",
      "WARNING:tensorflow:Can save best model only with val_acc available, skipping.\n",
      "202/202 [==============================] - 24s 117ms/step - loss: 0.6560 - accuracy: 0.7519 - val_loss: 1.6354 - val_accuracy: 0.4758\n",
      "Epoch 24/100\n",
      "202/202 [==============================] - ETA: 0s - loss: 0.6268 - accuracy: 0.7668WARNING:tensorflow:Early stopping conditioned on metric `val_acc` which is not available. Available metrics are: loss,accuracy,val_loss,val_accuracy\n",
      "WARNING:tensorflow:Can save best model only with val_acc available, skipping.\n",
      "202/202 [==============================] - 24s 118ms/step - loss: 0.6268 - accuracy: 0.7668 - val_loss: 1.0636 - val_accuracy: 0.6357\n",
      "Epoch 25/100\n",
      "202/202 [==============================] - ETA: 0s - loss: 0.6093 - accuracy: 0.7693WARNING:tensorflow:Early stopping conditioned on metric `val_acc` which is not available. Available metrics are: loss,accuracy,val_loss,val_accuracy\n",
      "WARNING:tensorflow:Can save best model only with val_acc available, skipping.\n",
      "202/202 [==============================] - 25s 125ms/step - loss: 0.6093 - accuracy: 0.7693 - val_loss: 1.1739 - val_accuracy: 0.6097\n",
      "Epoch 26/100\n",
      "202/202 [==============================] - ETA: 0s - loss: 0.5793 - accuracy: 0.7854WARNING:tensorflow:Early stopping conditioned on metric `val_acc` which is not available. Available metrics are: loss,accuracy,val_loss,val_accuracy\n",
      "WARNING:tensorflow:Can save best model only with val_acc available, skipping.\n",
      "202/202 [==============================] - 26s 127ms/step - loss: 0.5793 - accuracy: 0.7854 - val_loss: 2.4429 - val_accuracy: 0.3717\n",
      "Epoch 27/100\n",
      "202/202 [==============================] - ETA: 0s - loss: 0.5556 - accuracy: 0.7901WARNING:tensorflow:Early stopping conditioned on metric `val_acc` which is not available. Available metrics are: loss,accuracy,val_loss,val_accuracy\n",
      "WARNING:tensorflow:Can save best model only with val_acc available, skipping.\n",
      "202/202 [==============================] - 25s 123ms/step - loss: 0.5556 - accuracy: 0.7901 - val_loss: 0.9647 - val_accuracy: 0.6506\n",
      "Epoch 28/100\n",
      "202/202 [==============================] - ETA: 0s - loss: 0.5415 - accuracy: 0.8037WARNING:tensorflow:Early stopping conditioned on metric `val_acc` which is not available. Available metrics are: loss,accuracy,val_loss,val_accuracy\n",
      "WARNING:tensorflow:Can save best model only with val_acc available, skipping.\n",
      "202/202 [==============================] - 26s 131ms/step - loss: 0.5415 - accuracy: 0.8037 - val_loss: 1.0451 - val_accuracy: 0.6059\n",
      "Epoch 29/100\n",
      "202/202 [==============================] - ETA: 0s - loss: 0.5111 - accuracy: 0.8109WARNING:tensorflow:Early stopping conditioned on metric `val_acc` which is not available. Available metrics are: loss,accuracy,val_loss,val_accuracy\n",
      "WARNING:tensorflow:Can save best model only with val_acc available, skipping.\n",
      "202/202 [==============================] - 25s 124ms/step - loss: 0.5111 - accuracy: 0.8109 - val_loss: 1.0761 - val_accuracy: 0.6617\n",
      "Epoch 30/100\n",
      "202/202 [==============================] - ETA: 0s - loss: 0.4600 - accuracy: 0.8347WARNING:tensorflow:Early stopping conditioned on metric `val_acc` which is not available. Available metrics are: loss,accuracy,val_loss,val_accuracy\n",
      "WARNING:tensorflow:Can save best model only with val_acc available, skipping.\n",
      "202/202 [==============================] - 25s 125ms/step - loss: 0.4600 - accuracy: 0.8347 - val_loss: 1.8129 - val_accuracy: 0.5167\n",
      "Epoch 31/100\n",
      "202/202 [==============================] - ETA: 0s - loss: 0.4549 - accuracy: 0.8310WARNING:tensorflow:Early stopping conditioned on metric `val_acc` which is not available. Available metrics are: loss,accuracy,val_loss,val_accuracy\n",
      "WARNING:tensorflow:Can save best model only with val_acc available, skipping.\n",
      "202/202 [==============================] - 25s 125ms/step - loss: 0.4549 - accuracy: 0.8310 - val_loss: 0.9539 - val_accuracy: 0.6766\n",
      "Epoch 32/100\n",
      "202/202 [==============================] - ETA: 0s - loss: 0.4407 - accuracy: 0.8366WARNING:tensorflow:Early stopping conditioned on metric `val_acc` which is not available. Available metrics are: loss,accuracy,val_loss,val_accuracy\n",
      "WARNING:tensorflow:Can save best model only with val_acc available, skipping.\n",
      "202/202 [==============================] - 25s 125ms/step - loss: 0.4407 - accuracy: 0.8366 - val_loss: 0.8964 - val_accuracy: 0.6617\n",
      "Epoch 33/100\n",
      "202/202 [==============================] - ETA: 0s - loss: 0.4112 - accuracy: 0.8530WARNING:tensorflow:Early stopping conditioned on metric `val_acc` which is not available. Available metrics are: loss,accuracy,val_loss,val_accuracy\n",
      "WARNING:tensorflow:Can save best model only with val_acc available, skipping.\n",
      "202/202 [==============================] - 25s 124ms/step - loss: 0.4112 - accuracy: 0.8530 - val_loss: 1.1765 - val_accuracy: 0.6097\n",
      "Epoch 34/100\n",
      "202/202 [==============================] - ETA: 0s - loss: 0.3860 - accuracy: 0.8567WARNING:tensorflow:Early stopping conditioned on metric `val_acc` which is not available. Available metrics are: loss,accuracy,val_loss,val_accuracy\n",
      "WARNING:tensorflow:Can save best model only with val_acc available, skipping.\n",
      "202/202 [==============================] - 26s 127ms/step - loss: 0.3860 - accuracy: 0.8567 - val_loss: 0.9408 - val_accuracy: 0.6877\n",
      "Epoch 35/100\n",
      "202/202 [==============================] - ETA: 0s - loss: 0.3798 - accuracy: 0.8549WARNING:tensorflow:Early stopping conditioned on metric `val_acc` which is not available. Available metrics are: loss,accuracy,val_loss,val_accuracy\n",
      "WARNING:tensorflow:Can save best model only with val_acc available, skipping.\n",
      "202/202 [==============================] - 25s 126ms/step - loss: 0.3798 - accuracy: 0.8549 - val_loss: 1.6983 - val_accuracy: 0.5688\n",
      "Epoch 36/100\n",
      "202/202 [==============================] - ETA: 0s - loss: 0.3285 - accuracy: 0.8794WARNING:tensorflow:Early stopping conditioned on metric `val_acc` which is not available. Available metrics are: loss,accuracy,val_loss,val_accuracy\n",
      "WARNING:tensorflow:Can save best model only with val_acc available, skipping.\n",
      "202/202 [==============================] - 25s 126ms/step - loss: 0.3285 - accuracy: 0.8794 - val_loss: 1.1605 - val_accuracy: 0.6617\n"
     ]
    },
    {
     "name": "stdout",
     "output_type": "stream",
     "text": [
      "Epoch 37/100\n",
      "202/202 [==============================] - ETA: 0s - loss: 0.3195 - accuracy: 0.8840WARNING:tensorflow:Early stopping conditioned on metric `val_acc` which is not available. Available metrics are: loss,accuracy,val_loss,val_accuracy\n",
      "WARNING:tensorflow:Can save best model only with val_acc available, skipping.\n",
      "202/202 [==============================] - 26s 127ms/step - loss: 0.3195 - accuracy: 0.8840 - val_loss: 1.1578 - val_accuracy: 0.6691\n",
      "Epoch 38/100\n",
      "202/202 [==============================] - ETA: 0s - loss: 0.3059 - accuracy: 0.8905WARNING:tensorflow:Early stopping conditioned on metric `val_acc` which is not available. Available metrics are: loss,accuracy,val_loss,val_accuracy\n",
      "WARNING:tensorflow:Can save best model only with val_acc available, skipping.\n",
      "202/202 [==============================] - 25s 125ms/step - loss: 0.3059 - accuracy: 0.8905 - val_loss: 1.4861 - val_accuracy: 0.5762\n",
      "Epoch 39/100\n",
      "202/202 [==============================] - ETA: 0s - loss: 0.2993 - accuracy: 0.8865WARNING:tensorflow:Early stopping conditioned on metric `val_acc` which is not available. Available metrics are: loss,accuracy,val_loss,val_accuracy\n",
      "WARNING:tensorflow:Can save best model only with val_acc available, skipping.\n",
      "202/202 [==============================] - 25s 123ms/step - loss: 0.2993 - accuracy: 0.8865 - val_loss: 1.2873 - val_accuracy: 0.6245\n",
      "Epoch 40/100\n",
      "202/202 [==============================] - ETA: 0s - loss: 0.2751 - accuracy: 0.8980WARNING:tensorflow:Early stopping conditioned on metric `val_acc` which is not available. Available metrics are: loss,accuracy,val_loss,val_accuracy\n",
      "WARNING:tensorflow:Can save best model only with val_acc available, skipping.\n",
      "202/202 [==============================] - 26s 127ms/step - loss: 0.2751 - accuracy: 0.8980 - val_loss: 1.4027 - val_accuracy: 0.6245\n",
      "Epoch 41/100\n",
      "202/202 [==============================] - ETA: 0s - loss: 0.2739 - accuracy: 0.8924WARNING:tensorflow:Early stopping conditioned on metric `val_acc` which is not available. Available metrics are: loss,accuracy,val_loss,val_accuracy\n",
      "WARNING:tensorflow:Can save best model only with val_acc available, skipping.\n",
      "202/202 [==============================] - 25s 124ms/step - loss: 0.2739 - accuracy: 0.8924 - val_loss: 0.9940 - val_accuracy: 0.7063\n",
      "Epoch 42/100\n",
      "202/202 [==============================] - ETA: 0s - loss: 0.2328 - accuracy: 0.9150WARNING:tensorflow:Early stopping conditioned on metric `val_acc` which is not available. Available metrics are: loss,accuracy,val_loss,val_accuracy\n",
      "WARNING:tensorflow:Can save best model only with val_acc available, skipping.\n",
      "202/202 [==============================] - 25s 123ms/step - loss: 0.2328 - accuracy: 0.9150 - val_loss: 1.6517 - val_accuracy: 0.5836\n",
      "Epoch 43/100\n",
      "202/202 [==============================] - ETA: 0s - loss: 0.2341 - accuracy: 0.9144WARNING:tensorflow:Early stopping conditioned on metric `val_acc` which is not available. Available metrics are: loss,accuracy,val_loss,val_accuracy\n",
      "WARNING:tensorflow:Can save best model only with val_acc available, skipping.\n",
      "202/202 [==============================] - 25s 123ms/step - loss: 0.2341 - accuracy: 0.9144 - val_loss: 1.2682 - val_accuracy: 0.6543\n",
      "Epoch 44/100\n",
      "202/202 [==============================] - ETA: 0s - loss: 0.2036 - accuracy: 0.9315WARNING:tensorflow:Early stopping conditioned on metric `val_acc` which is not available. Available metrics are: loss,accuracy,val_loss,val_accuracy\n",
      "WARNING:tensorflow:Can save best model only with val_acc available, skipping.\n",
      "202/202 [==============================] - 25s 126ms/step - loss: 0.2036 - accuracy: 0.9315 - val_loss: 1.0156 - val_accuracy: 0.7286\n",
      "Epoch 45/100\n",
      "202/202 [==============================] - ETA: 0s - loss: 0.2094 - accuracy: 0.9234WARNING:tensorflow:Early stopping conditioned on metric `val_acc` which is not available. Available metrics are: loss,accuracy,val_loss,val_accuracy\n",
      "WARNING:tensorflow:Can save best model only with val_acc available, skipping.\n",
      "202/202 [==============================] - 25s 125ms/step - loss: 0.2094 - accuracy: 0.9234 - val_loss: 1.2507 - val_accuracy: 0.6394\n",
      "Epoch 46/100\n",
      "202/202 [==============================] - ETA: 0s - loss: 0.1852 - accuracy: 0.9371WARNING:tensorflow:Early stopping conditioned on metric `val_acc` which is not available. Available metrics are: loss,accuracy,val_loss,val_accuracy\n",
      "WARNING:tensorflow:Can save best model only with val_acc available, skipping.\n",
      "202/202 [==============================] - 25s 123ms/step - loss: 0.1852 - accuracy: 0.9371 - val_loss: 1.3511 - val_accuracy: 0.6506\n",
      "Epoch 47/100\n",
      "202/202 [==============================] - ETA: 0s - loss: 0.1778 - accuracy: 0.9327WARNING:tensorflow:Early stopping conditioned on metric `val_acc` which is not available. Available metrics are: loss,accuracy,val_loss,val_accuracy\n",
      "WARNING:tensorflow:Can save best model only with val_acc available, skipping.\n",
      "202/202 [==============================] - 25s 122ms/step - loss: 0.1778 - accuracy: 0.9327 - val_loss: 1.0408 - val_accuracy: 0.7286\n",
      "Epoch 48/100\n",
      "202/202 [==============================] - ETA: 0s - loss: 0.1682 - accuracy: 0.9433WARNING:tensorflow:Early stopping conditioned on metric `val_acc` which is not available. Available metrics are: loss,accuracy,val_loss,val_accuracy\n",
      "WARNING:tensorflow:Can save best model only with val_acc available, skipping.\n",
      "202/202 [==============================] - 25s 122ms/step - loss: 0.1682 - accuracy: 0.9433 - val_loss: 1.4029 - val_accuracy: 0.6134\n",
      "Epoch 49/100\n",
      "202/202 [==============================] - ETA: 0s - loss: 0.1488 - accuracy: 0.9513WARNING:tensorflow:Early stopping conditioned on metric `val_acc` which is not available. Available metrics are: loss,accuracy,val_loss,val_accuracy\n",
      "WARNING:tensorflow:Can save best model only with val_acc available, skipping.\n",
      "202/202 [==============================] - 24s 121ms/step - loss: 0.1488 - accuracy: 0.9513 - val_loss: 1.7346 - val_accuracy: 0.6059\n",
      "Epoch 50/100\n",
      "202/202 [==============================] - ETA: 0s - loss: 0.1430 - accuracy: 0.9532WARNING:tensorflow:Early stopping conditioned on metric `val_acc` which is not available. Available metrics are: loss,accuracy,val_loss,val_accuracy\n",
      "WARNING:tensorflow:Can save best model only with val_acc available, skipping.\n",
      "202/202 [==============================] - 24s 121ms/step - loss: 0.1430 - accuracy: 0.9532 - val_loss: 1.2235 - val_accuracy: 0.6989\n",
      "Epoch 51/100\n",
      "202/202 [==============================] - ETA: 0s - loss: 0.1479 - accuracy: 0.9495WARNING:tensorflow:Early stopping conditioned on metric `val_acc` which is not available. Available metrics are: loss,accuracy,val_loss,val_accuracy\n",
      "WARNING:tensorflow:Can save best model only with val_acc available, skipping.\n",
      "202/202 [==============================] - 24s 121ms/step - loss: 0.1479 - accuracy: 0.9495 - val_loss: 1.6075 - val_accuracy: 0.6357\n",
      "Epoch 52/100\n",
      "202/202 [==============================] - ETA: 0s - loss: 0.1355 - accuracy: 0.9491WARNING:tensorflow:Early stopping conditioned on metric `val_acc` which is not available. Available metrics are: loss,accuracy,val_loss,val_accuracy\n",
      "WARNING:tensorflow:Can save best model only with val_acc available, skipping.\n",
      "202/202 [==============================] - 24s 120ms/step - loss: 0.1355 - accuracy: 0.9491 - val_loss: 1.4498 - val_accuracy: 0.6468\n",
      "Epoch 53/100\n",
      "202/202 [==============================] - ETA: 0s - loss: 0.1059 - accuracy: 0.9622WARNING:tensorflow:Early stopping conditioned on metric `val_acc` which is not available. Available metrics are: loss,accuracy,val_loss,val_accuracy\n",
      "WARNING:tensorflow:Can save best model only with val_acc available, skipping.\n",
      "202/202 [==============================] - 24s 121ms/step - loss: 0.1059 - accuracy: 0.9622 - val_loss: 1.1831 - val_accuracy: 0.7100\n",
      "Epoch 54/100\n",
      "202/202 [==============================] - ETA: 0s - loss: 0.1002 - accuracy: 0.9671WARNING:tensorflow:Early stopping conditioned on metric `val_acc` which is not available. Available metrics are: loss,accuracy,val_loss,val_accuracy\n",
      "WARNING:tensorflow:Can save best model only with val_acc available, skipping.\n",
      "202/202 [==============================] - 25s 121ms/step - loss: 0.1002 - accuracy: 0.9671 - val_loss: 1.1603 - val_accuracy: 0.7323\n"
     ]
    },
    {
     "name": "stdout",
     "output_type": "stream",
     "text": [
      "Epoch 55/100\n",
      "202/202 [==============================] - ETA: 0s - loss: 0.0957 - accuracy: 0.9690WARNING:tensorflow:Early stopping conditioned on metric `val_acc` which is not available. Available metrics are: loss,accuracy,val_loss,val_accuracy\n",
      "WARNING:tensorflow:Can save best model only with val_acc available, skipping.\n",
      "202/202 [==============================] - 24s 121ms/step - loss: 0.0957 - accuracy: 0.9690 - val_loss: 1.3499 - val_accuracy: 0.7212\n",
      "Epoch 56/100\n",
      "202/202 [==============================] - ETA: 0s - loss: 0.0868 - accuracy: 0.9730WARNING:tensorflow:Early stopping conditioned on metric `val_acc` which is not available. Available metrics are: loss,accuracy,val_loss,val_accuracy\n",
      "WARNING:tensorflow:Can save best model only with val_acc available, skipping.\n",
      "202/202 [==============================] - 25s 124ms/step - loss: 0.0868 - accuracy: 0.9730 - val_loss: 1.5571 - val_accuracy: 0.6394\n",
      "Epoch 57/100\n",
      "202/202 [==============================] - ETA: 0s - loss: 0.0870 - accuracy: 0.9712WARNING:tensorflow:Early stopping conditioned on metric `val_acc` which is not available. Available metrics are: loss,accuracy,val_loss,val_accuracy\n",
      "WARNING:tensorflow:Can save best model only with val_acc available, skipping.\n",
      "202/202 [==============================] - 24s 119ms/step - loss: 0.0870 - accuracy: 0.9712 - val_loss: 1.2424 - val_accuracy: 0.6989\n",
      "Epoch 58/100\n",
      "202/202 [==============================] - ETA: 0s - loss: 0.0926 - accuracy: 0.9678WARNING:tensorflow:Early stopping conditioned on metric `val_acc` which is not available. Available metrics are: loss,accuracy,val_loss,val_accuracy\n",
      "WARNING:tensorflow:Can save best model only with val_acc available, skipping.\n",
      "202/202 [==============================] - 24s 119ms/step - loss: 0.0926 - accuracy: 0.9678 - val_loss: 2.3316 - val_accuracy: 0.5911\n",
      "Epoch 59/100\n",
      "202/202 [==============================] - ETA: 0s - loss: 0.0821 - accuracy: 0.9733WARNING:tensorflow:Early stopping conditioned on metric `val_acc` which is not available. Available metrics are: loss,accuracy,val_loss,val_accuracy\n",
      "WARNING:tensorflow:Can save best model only with val_acc available, skipping.\n",
      "202/202 [==============================] - 24s 119ms/step - loss: 0.0821 - accuracy: 0.9733 - val_loss: 1.8665 - val_accuracy: 0.6097\n",
      "Epoch 60/100\n",
      "202/202 [==============================] - ETA: 0s - loss: 0.0786 - accuracy: 0.9736WARNING:tensorflow:Early stopping conditioned on metric `val_acc` which is not available. Available metrics are: loss,accuracy,val_loss,val_accuracy\n",
      "WARNING:tensorflow:Can save best model only with val_acc available, skipping.\n",
      "202/202 [==============================] - 24s 120ms/step - loss: 0.0786 - accuracy: 0.9736 - val_loss: 1.4031 - val_accuracy: 0.7212\n",
      "Epoch 61/100\n",
      "202/202 [==============================] - ETA: 0s - loss: 0.0799 - accuracy: 0.9752WARNING:tensorflow:Early stopping conditioned on metric `val_acc` which is not available. Available metrics are: loss,accuracy,val_loss,val_accuracy\n",
      "WARNING:tensorflow:Can save best model only with val_acc available, skipping.\n",
      "202/202 [==============================] - 25s 124ms/step - loss: 0.0799 - accuracy: 0.9752 - val_loss: 1.4143 - val_accuracy: 0.7175\n",
      "Epoch 62/100\n",
      "202/202 [==============================] - ETA: 0s - loss: 0.0725 - accuracy: 0.9749WARNING:tensorflow:Early stopping conditioned on metric `val_acc` which is not available. Available metrics are: loss,accuracy,val_loss,val_accuracy\n",
      "WARNING:tensorflow:Can save best model only with val_acc available, skipping.\n",
      "202/202 [==============================] - 25s 125ms/step - loss: 0.0725 - accuracy: 0.9749 - val_loss: 1.0769 - val_accuracy: 0.7138\n",
      "Epoch 63/100\n",
      "202/202 [==============================] - ETA: 0s - loss: 0.0652 - accuracy: 0.9771WARNING:tensorflow:Early stopping conditioned on metric `val_acc` which is not available. Available metrics are: loss,accuracy,val_loss,val_accuracy\n",
      "WARNING:tensorflow:Can save best model only with val_acc available, skipping.\n",
      "202/202 [==============================] - 25s 123ms/step - loss: 0.0652 - accuracy: 0.9771 - val_loss: 1.0613 - val_accuracy: 0.7658\n",
      "Epoch 64/100\n",
      "202/202 [==============================] - ETA: 0s - loss: 0.0596 - accuracy: 0.9814WARNING:tensorflow:Early stopping conditioned on metric `val_acc` which is not available. Available metrics are: loss,accuracy,val_loss,val_accuracy\n",
      "WARNING:tensorflow:Can save best model only with val_acc available, skipping.\n",
      "202/202 [==============================] - 25s 123ms/step - loss: 0.0596 - accuracy: 0.9814 - val_loss: 1.1347 - val_accuracy: 0.7249\n",
      "Epoch 65/100\n",
      "202/202 [==============================] - ETA: 0s - loss: 0.0689 - accuracy: 0.9758WARNING:tensorflow:Early stopping conditioned on metric `val_acc` which is not available. Available metrics are: loss,accuracy,val_loss,val_accuracy\n",
      "WARNING:tensorflow:Can save best model only with val_acc available, skipping.\n",
      "202/202 [==============================] - 25s 122ms/step - loss: 0.0689 - accuracy: 0.9758 - val_loss: 1.3378 - val_accuracy: 0.7138\n",
      "Epoch 66/100\n",
      "202/202 [==============================] - ETA: 0s - loss: 0.0597 - accuracy: 0.9783WARNING:tensorflow:Early stopping conditioned on metric `val_acc` which is not available. Available metrics are: loss,accuracy,val_loss,val_accuracy\n",
      "WARNING:tensorflow:Can save best model only with val_acc available, skipping.\n",
      "202/202 [==============================] - 26s 128ms/step - loss: 0.0597 - accuracy: 0.9783 - val_loss: 1.1164 - val_accuracy: 0.6989\n",
      "Epoch 67/100\n",
      "202/202 [==============================] - ETA: 0s - loss: 0.0517 - accuracy: 0.9808WARNING:tensorflow:Early stopping conditioned on metric `val_acc` which is not available. Available metrics are: loss,accuracy,val_loss,val_accuracy\n",
      "WARNING:tensorflow:Can save best model only with val_acc available, skipping.\n",
      "202/202 [==============================] - 25s 124ms/step - loss: 0.0517 - accuracy: 0.9808 - val_loss: 1.0774 - val_accuracy: 0.7546\n",
      "Epoch 68/100\n",
      "202/202 [==============================] - ETA: 0s - loss: 0.0467 - accuracy: 0.9860WARNING:tensorflow:Early stopping conditioned on metric `val_acc` which is not available. Available metrics are: loss,accuracy,val_loss,val_accuracy\n",
      "WARNING:tensorflow:Can save best model only with val_acc available, skipping.\n",
      "202/202 [==============================] - 25s 123ms/step - loss: 0.0467 - accuracy: 0.9860 - val_loss: 1.7591 - val_accuracy: 0.6766\n",
      "Epoch 69/100\n",
      "202/202 [==============================] - ETA: 0s - loss: 0.0425 - accuracy: 0.9882WARNING:tensorflow:Early stopping conditioned on metric `val_acc` which is not available. Available metrics are: loss,accuracy,val_loss,val_accuracy\n",
      "WARNING:tensorflow:Can save best model only with val_acc available, skipping.\n",
      "202/202 [==============================] - 25s 125ms/step - loss: 0.0425 - accuracy: 0.9882 - val_loss: 1.2492 - val_accuracy: 0.7100\n",
      "Epoch 70/100\n",
      "202/202 [==============================] - ETA: 0s - loss: 0.0495 - accuracy: 0.9839WARNING:tensorflow:Early stopping conditioned on metric `val_acc` which is not available. Available metrics are: loss,accuracy,val_loss,val_accuracy\n",
      "WARNING:tensorflow:Can save best model only with val_acc available, skipping.\n",
      "202/202 [==============================] - 25s 123ms/step - loss: 0.0495 - accuracy: 0.9839 - val_loss: 1.7748 - val_accuracy: 0.6283\n",
      "Epoch 71/100\n",
      "202/202 [==============================] - ETA: 0s - loss: 0.0479 - accuracy: 0.9845WARNING:tensorflow:Early stopping conditioned on metric `val_acc` which is not available. Available metrics are: loss,accuracy,val_loss,val_accuracy\n",
      "WARNING:tensorflow:Can save best model only with val_acc available, skipping.\n",
      "202/202 [==============================] - 28s 139ms/step - loss: 0.0479 - accuracy: 0.9845 - val_loss: 1.3514 - val_accuracy: 0.6803\n",
      "Epoch 72/100\n",
      "202/202 [==============================] - ETA: 0s - loss: 0.0354 - accuracy: 0.9888WARNING:tensorflow:Early stopping conditioned on metric `val_acc` which is not available. Available metrics are: loss,accuracy,val_loss,val_accuracy\n",
      "WARNING:tensorflow:Can save best model only with val_acc available, skipping.\n",
      "202/202 [==============================] - 28s 140ms/step - loss: 0.0354 - accuracy: 0.9888 - val_loss: 1.1443 - val_accuracy: 0.7249\n"
     ]
    },
    {
     "name": "stdout",
     "output_type": "stream",
     "text": [
      "Epoch 73/100\n",
      "202/202 [==============================] - ETA: 0s - loss: 0.0367 - accuracy: 0.9901WARNING:tensorflow:Early stopping conditioned on metric `val_acc` which is not available. Available metrics are: loss,accuracy,val_loss,val_accuracy\n",
      "WARNING:tensorflow:Can save best model only with val_acc available, skipping.\n",
      "202/202 [==============================] - 29s 145ms/step - loss: 0.0367 - accuracy: 0.9901 - val_loss: 1.9180 - val_accuracy: 0.6468\n",
      "Epoch 74/100\n",
      "202/202 [==============================] - ETA: 0s - loss: 0.0449 - accuracy: 0.9848WARNING:tensorflow:Early stopping conditioned on metric `val_acc` which is not available. Available metrics are: loss,accuracy,val_loss,val_accuracy\n",
      "WARNING:tensorflow:Can save best model only with val_acc available, skipping.\n",
      "202/202 [==============================] - 27s 132ms/step - loss: 0.0449 - accuracy: 0.9848 - val_loss: 1.1857 - val_accuracy: 0.7509\n",
      "Epoch 75/100\n",
      "202/202 [==============================] - ETA: 0s - loss: 0.0343 - accuracy: 0.9879WARNING:tensorflow:Early stopping conditioned on metric `val_acc` which is not available. Available metrics are: loss,accuracy,val_loss,val_accuracy\n",
      "WARNING:tensorflow:Can save best model only with val_acc available, skipping.\n",
      "202/202 [==============================] - 31s 151ms/step - loss: 0.0343 - accuracy: 0.9879 - val_loss: 1.4252 - val_accuracy: 0.7138\n",
      "Epoch 76/100\n",
      "202/202 [==============================] - ETA: 0s - loss: 0.0341 - accuracy: 0.9904WARNING:tensorflow:Early stopping conditioned on metric `val_acc` which is not available. Available metrics are: loss,accuracy,val_loss,val_accuracy\n",
      "WARNING:tensorflow:Can save best model only with val_acc available, skipping.\n",
      "202/202 [==============================] - 28s 138ms/step - loss: 0.0341 - accuracy: 0.9904 - val_loss: 1.1452 - val_accuracy: 0.7398\n",
      "Epoch 77/100\n",
      "202/202 [==============================] - ETA: 0s - loss: 0.0322 - accuracy: 0.9885WARNING:tensorflow:Early stopping conditioned on metric `val_acc` which is not available. Available metrics are: loss,accuracy,val_loss,val_accuracy\n",
      "WARNING:tensorflow:Can save best model only with val_acc available, skipping.\n",
      "202/202 [==============================] - 26s 127ms/step - loss: 0.0322 - accuracy: 0.9885 - val_loss: 1.4133 - val_accuracy: 0.6914\n",
      "Epoch 78/100\n",
      "202/202 [==============================] - ETA: 0s - loss: 0.0325 - accuracy: 0.9895WARNING:tensorflow:Early stopping conditioned on metric `val_acc` which is not available. Available metrics are: loss,accuracy,val_loss,val_accuracy\n",
      "WARNING:tensorflow:Can save best model only with val_acc available, skipping.\n",
      "202/202 [==============================] - 26s 128ms/step - loss: 0.0325 - accuracy: 0.9895 - val_loss: 1.1783 - val_accuracy: 0.7435\n",
      "Epoch 79/100\n",
      "202/202 [==============================] - ETA: 0s - loss: 0.0248 - accuracy: 0.9938WARNING:tensorflow:Early stopping conditioned on metric `val_acc` which is not available. Available metrics are: loss,accuracy,val_loss,val_accuracy\n",
      "WARNING:tensorflow:Can save best model only with val_acc available, skipping.\n",
      "202/202 [==============================] - 25s 123ms/step - loss: 0.0248 - accuracy: 0.9938 - val_loss: 1.3049 - val_accuracy: 0.7063\n",
      "Epoch 80/100\n",
      "202/202 [==============================] - ETA: 0s - loss: 0.0274 - accuracy: 0.9926WARNING:tensorflow:Early stopping conditioned on metric `val_acc` which is not available. Available metrics are: loss,accuracy,val_loss,val_accuracy\n",
      "WARNING:tensorflow:Can save best model only with val_acc available, skipping.\n",
      "202/202 [==============================] - 24s 121ms/step - loss: 0.0274 - accuracy: 0.9926 - val_loss: 1.4262 - val_accuracy: 0.6989\n",
      "Epoch 81/100\n",
      "202/202 [==============================] - ETA: 0s - loss: 0.0206 - accuracy: 0.9947WARNING:tensorflow:Early stopping conditioned on metric `val_acc` which is not available. Available metrics are: loss,accuracy,val_loss,val_accuracy\n",
      "WARNING:tensorflow:Can save best model only with val_acc available, skipping.\n",
      "202/202 [==============================] - 25s 124ms/step - loss: 0.0206 - accuracy: 0.9947 - val_loss: 1.7836 - val_accuracy: 0.6952\n",
      "Epoch 82/100\n",
      "202/202 [==============================] - ETA: 0s - loss: 0.0381 - accuracy: 0.9879WARNING:tensorflow:Early stopping conditioned on metric `val_acc` which is not available. Available metrics are: loss,accuracy,val_loss,val_accuracy\n",
      "WARNING:tensorflow:Can save best model only with val_acc available, skipping.\n",
      "202/202 [==============================] - 25s 125ms/step - loss: 0.0381 - accuracy: 0.9879 - val_loss: 1.6993 - val_accuracy: 0.6580\n",
      "Epoch 83/100\n",
      "202/202 [==============================] - ETA: 0s - loss: 0.0315 - accuracy: 0.9904WARNING:tensorflow:Early stopping conditioned on metric `val_acc` which is not available. Available metrics are: loss,accuracy,val_loss,val_accuracy\n",
      "WARNING:tensorflow:Can save best model only with val_acc available, skipping.\n",
      "202/202 [==============================] - 25s 123ms/step - loss: 0.0315 - accuracy: 0.9904 - val_loss: 1.2439 - val_accuracy: 0.7435\n",
      "Epoch 84/100\n",
      "202/202 [==============================] - ETA: 0s - loss: 0.0323 - accuracy: 0.9898WARNING:tensorflow:Early stopping conditioned on metric `val_acc` which is not available. Available metrics are: loss,accuracy,val_loss,val_accuracy\n",
      "WARNING:tensorflow:Can save best model only with val_acc available, skipping.\n",
      "202/202 [==============================] - 25s 122ms/step - loss: 0.0323 - accuracy: 0.9898 - val_loss: 1.3028 - val_accuracy: 0.7361\n",
      "Epoch 85/100\n",
      "202/202 [==============================] - ETA: 0s - loss: 0.0236 - accuracy: 0.9935WARNING:tensorflow:Early stopping conditioned on metric `val_acc` which is not available. Available metrics are: loss,accuracy,val_loss,val_accuracy\n",
      "WARNING:tensorflow:Can save best model only with val_acc available, skipping.\n",
      "202/202 [==============================] - 25s 122ms/step - loss: 0.0236 - accuracy: 0.9935 - val_loss: 1.3052 - val_accuracy: 0.7212\n",
      "Epoch 86/100\n",
      "202/202 [==============================] - ETA: 0s - loss: 0.0277 - accuracy: 0.9907WARNING:tensorflow:Early stopping conditioned on metric `val_acc` which is not available. Available metrics are: loss,accuracy,val_loss,val_accuracy\n",
      "WARNING:tensorflow:Can save best model only with val_acc available, skipping.\n",
      "202/202 [==============================] - 26s 127ms/step - loss: 0.0277 - accuracy: 0.9907 - val_loss: 1.2294 - val_accuracy: 0.7584\n",
      "Epoch 87/100\n",
      "202/202 [==============================] - ETA: 0s - loss: 0.0298 - accuracy: 0.9904WARNING:tensorflow:Early stopping conditioned on metric `val_acc` which is not available. Available metrics are: loss,accuracy,val_loss,val_accuracy\n",
      "WARNING:tensorflow:Can save best model only with val_acc available, skipping.\n",
      "202/202 [==============================] - 25s 121ms/step - loss: 0.0298 - accuracy: 0.9904 - val_loss: 1.6827 - val_accuracy: 0.6952\n",
      "Epoch 88/100\n",
      "202/202 [==============================] - ETA: 0s - loss: 0.0298 - accuracy: 0.9888WARNING:tensorflow:Early stopping conditioned on metric `val_acc` which is not available. Available metrics are: loss,accuracy,val_loss,val_accuracy\n",
      "WARNING:tensorflow:Can save best model only with val_acc available, skipping.\n",
      "202/202 [==============================] - 27s 131ms/step - loss: 0.0298 - accuracy: 0.9888 - val_loss: 1.4816 - val_accuracy: 0.7286\n",
      "Epoch 89/100\n",
      "202/202 [==============================] - ETA: 0s - loss: 0.0198 - accuracy: 0.9944WARNING:tensorflow:Early stopping conditioned on metric `val_acc` which is not available. Available metrics are: loss,accuracy,val_loss,val_accuracy\n",
      "WARNING:tensorflow:Can save best model only with val_acc available, skipping.\n",
      "202/202 [==============================] - 27s 132ms/step - loss: 0.0198 - accuracy: 0.9944 - val_loss: 1.2728 - val_accuracy: 0.7435\n",
      "Epoch 90/100\n",
      "202/202 [==============================] - ETA: 0s - loss: 0.0150 - accuracy: 0.9957WARNING:tensorflow:Early stopping conditioned on metric `val_acc` which is not available. Available metrics are: loss,accuracy,val_loss,val_accuracy\n",
      "WARNING:tensorflow:Can save best model only with val_acc available, skipping.\n",
      "202/202 [==============================] - 26s 128ms/step - loss: 0.0150 - accuracy: 0.9957 - val_loss: 1.2510 - val_accuracy: 0.7509\n"
     ]
    },
    {
     "name": "stdout",
     "output_type": "stream",
     "text": [
      "Epoch 91/100\n",
      "202/202 [==============================] - ETA: 0s - loss: 0.0217 - accuracy: 0.9926WARNING:tensorflow:Early stopping conditioned on metric `val_acc` which is not available. Available metrics are: loss,accuracy,val_loss,val_accuracy\n",
      "WARNING:tensorflow:Can save best model only with val_acc available, skipping.\n",
      "202/202 [==============================] - 26s 129ms/step - loss: 0.0217 - accuracy: 0.9926 - val_loss: 1.3659 - val_accuracy: 0.7286\n",
      "Epoch 92/100\n",
      "202/202 [==============================] - ETA: 0s - loss: 0.0167 - accuracy: 0.9941WARNING:tensorflow:Early stopping conditioned on metric `val_acc` which is not available. Available metrics are: loss,accuracy,val_loss,val_accuracy\n",
      "WARNING:tensorflow:Can save best model only with val_acc available, skipping.\n",
      "202/202 [==============================] - 26s 127ms/step - loss: 0.0167 - accuracy: 0.9941 - val_loss: 1.4322 - val_accuracy: 0.7509\n",
      "Epoch 93/100\n",
      "202/202 [==============================] - ETA: 0s - loss: 0.0162 - accuracy: 0.9960WARNING:tensorflow:Early stopping conditioned on metric `val_acc` which is not available. Available metrics are: loss,accuracy,val_loss,val_accuracy\n",
      "WARNING:tensorflow:Can save best model only with val_acc available, skipping.\n",
      "202/202 [==============================] - 25s 124ms/step - loss: 0.0162 - accuracy: 0.9960 - val_loss: 1.1598 - val_accuracy: 0.7881\n",
      "Epoch 94/100\n",
      "202/202 [==============================] - ETA: 0s - loss: 0.0176 - accuracy: 0.9944WARNING:tensorflow:Early stopping conditioned on metric `val_acc` which is not available. Available metrics are: loss,accuracy,val_loss,val_accuracy\n",
      "WARNING:tensorflow:Can save best model only with val_acc available, skipping.\n",
      "202/202 [==============================] - 26s 128ms/step - loss: 0.0176 - accuracy: 0.9944 - val_loss: 1.5896 - val_accuracy: 0.6766\n",
      "Epoch 95/100\n",
      "202/202 [==============================] - ETA: 0s - loss: 0.0201 - accuracy: 0.9929WARNING:tensorflow:Early stopping conditioned on metric `val_acc` which is not available. Available metrics are: loss,accuracy,val_loss,val_accuracy\n",
      "WARNING:tensorflow:Can save best model only with val_acc available, skipping.\n",
      "202/202 [==============================] - 25s 126ms/step - loss: 0.0201 - accuracy: 0.9929 - val_loss: 1.7672 - val_accuracy: 0.7026\n",
      "Epoch 96/100\n",
      "202/202 [==============================] - ETA: 0s - loss: 0.0198 - accuracy: 0.9944WARNING:tensorflow:Early stopping conditioned on metric `val_acc` which is not available. Available metrics are: loss,accuracy,val_loss,val_accuracy\n",
      "WARNING:tensorflow:Can save best model only with val_acc available, skipping.\n",
      "202/202 [==============================] - 26s 127ms/step - loss: 0.0198 - accuracy: 0.9944 - val_loss: 1.3053 - val_accuracy: 0.7509\n",
      "Epoch 97/100\n",
      "202/202 [==============================] - ETA: 0s - loss: 0.0202 - accuracy: 0.9932WARNING:tensorflow:Early stopping conditioned on metric `val_acc` which is not available. Available metrics are: loss,accuracy,val_loss,val_accuracy\n",
      "WARNING:tensorflow:Can save best model only with val_acc available, skipping.\n",
      "202/202 [==============================] - 25s 123ms/step - loss: 0.0202 - accuracy: 0.9932 - val_loss: 1.3107 - val_accuracy: 0.7770\n",
      "Epoch 98/100\n",
      "202/202 [==============================] - ETA: 0s - loss: 0.0196 - accuracy: 0.9935WARNING:tensorflow:Early stopping conditioned on metric `val_acc` which is not available. Available metrics are: loss,accuracy,val_loss,val_accuracy\n",
      "WARNING:tensorflow:Can save best model only with val_acc available, skipping.\n",
      "202/202 [==============================] - 25s 124ms/step - loss: 0.0196 - accuracy: 0.9935 - val_loss: 1.2732 - val_accuracy: 0.7286\n",
      "Epoch 99/100\n",
      "202/202 [==============================] - ETA: 0s - loss: 0.0164 - accuracy: 0.9947WARNING:tensorflow:Early stopping conditioned on metric `val_acc` which is not available. Available metrics are: loss,accuracy,val_loss,val_accuracy\n",
      "WARNING:tensorflow:Can save best model only with val_acc available, skipping.\n",
      "202/202 [==============================] - 25s 125ms/step - loss: 0.0164 - accuracy: 0.9947 - val_loss: 1.4918 - val_accuracy: 0.7584\n",
      "Epoch 100/100\n",
      "202/202 [==============================] - ETA: 0s - loss: 0.0139 - accuracy: 0.9966WARNING:tensorflow:Early stopping conditioned on metric `val_acc` which is not available. Available metrics are: loss,accuracy,val_loss,val_accuracy\n",
      "WARNING:tensorflow:Can save best model only with val_acc available, skipping.\n",
      "202/202 [==============================] - 25s 126ms/step - loss: 0.0139 - accuracy: 0.9966 - val_loss: 1.4231 - val_accuracy: 0.7212\n"
     ]
    }
   ],
   "source": [
    "# Compile model\n",
    "model.compile(optimizer=SGD(lr=0.01, decay=1e-6, momentum=0.8), loss='categorical_crossentropy', metrics=['accuracy'])\n",
    "\n",
    "# Save best model\n",
    "best_model_save = ModelCheckpoint('../Datas/Pickle/RAVDESS/DIS/[CNN-LSTM]Model.hdf5', save_best_only=True, monitor='val_acc', mode='max')\n",
    "\n",
    "# Early stopping\n",
    "early_stopping = EarlyStopping(monitor='val_acc', patience=30, verbose=1, mode='max')\n",
    "\n",
    "# Fit model\n",
    "history = model.fit(X_train, y_train, batch_size=16, epochs=100, validation_data=(X_test, y_test), callbacks=[early_stopping, best_model_save])"
   ]
  },
  {
   "cell_type": "code",
   "execution_count": 27,
   "metadata": {},
   "outputs": [
    {
     "name": "stdout",
     "output_type": "stream",
     "text": [
      "dict_keys(['loss', 'accuracy', 'val_loss', 'val_accuracy'])\n"
     ]
    }
   ],
   "source": [
    "print(history.history.keys())"
   ]
  },
  {
   "cell_type": "code",
   "execution_count": 28,
   "metadata": {
    "colab": {
     "base_uri": "https://localhost:8080/",
     "height": 633
    },
    "colab_type": "code",
    "id": "xRqBasJCjFDr",
    "outputId": "757fa392-2325-4183-c70e-9a817e8de224"
   },
   "outputs": [
    {
     "data": {
      "image/png": "[encoded data removed]",
      "text/plain": [
       "<Figure size 1800x720 with 2 Axes>"
      ]
     },
     "metadata": {
      "needs_background": "light"
     },
     "output_type": "display_data"
    }
   ],
   "source": [
    "# Loss Curves\n",
    "plt.figure(figsize=(25, 10))\n",
    "plt.subplot(1, 2, 1)\n",
    "plt.plot(history.history['loss'],'-g',linewidth=1.0)\n",
    "plt.plot(history.history['val_loss'],'r',linewidth=1.0)\n",
    "plt.legend(['Training loss', 'Validation Loss'],fontsize=14)\n",
    "plt.xlabel('Epochs ',fontsize=16)\n",
    "plt.ylabel('Loss',fontsize=16)\n",
    "plt.title('Loss Curves',fontsize=22)\n",
    " \n",
    "# Accuracy Curves\n",
    "plt.subplot(1, 2, 2)\n",
    "plt.plot(history.history['accuracy'],'-g',linewidth=1.0)\n",
    "plt.plot(history.history['val_accuracy'],'r',linewidth=1.0)\n",
    "plt.legend(['Training Accuracy', 'Validation Accuracy'],fontsize=14)\n",
    "plt.xlabel('Epochs ',fontsize=16)\n",
    "\n",
    "plt.ylabel('Accuracy',fontsize=16)\n",
    "plt.title('Accuracy Curves',fontsize=22)\n",
    "plt.show()"
   ]
  },
  {
   "cell_type": "markdown",
   "metadata": {
    "colab_type": "text",
    "id": "QdL8ia9FSqFY"
   },
   "source": [
    "## VII. Save model"
   ]
  },
  {
   "cell_type": "code",
   "execution_count": 29,
   "metadata": {
    "colab": {},
    "colab_type": "code",
    "id": "QbAugzKSStwH"
   },
   "outputs": [],
   "source": [
    "model.save('../Data/Model/[CNN-LSTM]M.h5')\n",
    "model.save_weights('../Data/Model/[CNN-LSTM]W.h5')"
   ]
  },
  {
   "cell_type": "markdown",
   "metadata": {},
   "source": [
    "## VIII. Test model"
   ]
  },
  {
   "cell_type": "code",
   "execution_count": 12,
   "metadata": {},
   "outputs": [],
   "source": [
    "model.load_weights(\"../Data/Model/[CNN-LSTM]W.h5\")"
   ]
  },
  {
   "cell_type": "code",
   "execution_count": 13,
   "metadata": {},
   "outputs": [],
   "source": [
    "y_predict = model.predict(X_test)"
   ]
  },
  {
   "cell_type": "code",
   "execution_count": 18,
   "metadata": {},
   "outputs": [
    {
     "data": {
      "text/plain": [
       "5"
      ]
     },
     "execution_count": 18,
     "metadata": {},
     "output_type": "execute_result"
    }
   ],
   "source": [
    "np.argmax(y_test[0])"
   ]
  },
  {
   "cell_type": "code",
   "execution_count": 16,
   "metadata": {},
   "outputs": [
    {
     "data": {
      "text/plain": [
       "5"
      ]
     },
     "execution_count": 16,
     "metadata": {},
     "output_type": "execute_result"
    }
   ],
   "source": [
    "np.argmax(y_predict[0])"
   ]
  },
  {
   "cell_type": "code",
   "execution_count": 24,
   "metadata": {},
   "outputs": [],
   "source": [
    "test_class_predict = [np.argmax(y_predicted) for y_predicted in y_predict]\n",
    "class_predict = [np.argmax(y_actual) for y_actual in y_test]"
   ]
  },
  {
   "cell_type": "code",
   "execution_count": 27,
   "metadata": {},
   "outputs": [],
   "source": [
    "from sklearn.metrics import ConfusionMatrixDisplay\n",
    "from sklearn.metrics import confusion_matrix"
   ]
  },
  {
   "cell_type": "code",
   "execution_count": 29,
   "metadata": {},
   "outputs": [],
   "source": [
    "cm = confusion_matrix(class_predict, test_class_predict)"
   ]
  },
  {
   "cell_type": "code",
   "execution_count": 31,
   "metadata": {},
   "outputs": [
    {
     "data": {
      "text/plain": [
       "array([[36,  0,  0,  0,  0,  0,  0],\n",
       "       [ 0, 40,  0,  0,  0,  0,  0],\n",
       "       [ 0,  0, 35,  0,  0,  1,  4],\n",
       "       [ 0,  0,  0, 36,  0,  0,  1],\n",
       "       [ 0,  1,  0,  0, 41,  0,  0],\n",
       "       [ 0,  0,  1,  0,  1, 37,  1],\n",
       "       [ 0,  0,  0,  1,  0,  0, 33]], dtype=int64)"
      ]
     },
     "execution_count": 31,
     "metadata": {},
     "output_type": "execute_result"
    }
   ],
   "source": [
    "cm"
   ]
  },
  {
   "cell_type": "code",
   "execution_count": 32,
   "metadata": {},
   "outputs": [
    {
     "data": {
      "image/png": "[encoded data removed]",
      "text/plain": [
       "<Figure size 432x288 with 2 Axes>"
      ]
     },
     "metadata": {
      "needs_background": "light"
     },
     "output_type": "display_data"
    }
   ],
   "source": [
    "labels = ['Angry','Disgust', 'Fear', 'Happy', 'Neutral', 'Sad', 'Surprise']\n",
    "\n",
    "disp = ConfusionMatrixDisplay(confusion_matrix=cm, display_labels=labels)\n",
    "\n",
    "disp.plot(cmap=plt.cm.Reds)\n",
    "plt.show()"
   ]
  }
 ],
 "metadata": {
  "accelerator": "GPU",
  "colab": {
   "collapsed_sections": [],
   "name": "Time Distributed ConvNet.ipynb",
   "provenance": [],
   "version": "0.3.2"
  },
  "kernelspec": {
   "display_name": "Python 3",
   "language": "python",
   "name": "python3"
  },
  "language_info": {
   "codemirror_mode": {
    "name": "ipython",
    "version": 3
   },
   "file_extension": ".py",
   "mimetype": "text/x-python",
   "name": "python",
   "nbconvert_exporter": "python",
   "pygments_lexer": "ipython3",
   "version": "3.8.8"
  }
 },
 "nbformat": 4,
 "nbformat_minor": 1
}
